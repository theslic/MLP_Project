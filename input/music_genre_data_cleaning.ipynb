{
 "cells": [
  {
   "cell_type": "code",
   "execution_count": 13,
   "id": "6521f20a",
   "metadata": {},
   "outputs": [],
   "source": [
    "# Library import\n",
    "import numpy as np\n",
    "import pandas as pd\n",
    "from sklearn import preprocessing"
   ]
  },
  {
   "cell_type": "code",
   "execution_count": 14,
   "id": "7e15a44c",
   "metadata": {
    "scrolled": true
   },
   "outputs": [
    {
     "name": "stdout",
     "output_type": "stream",
     "text": [
      "   instance_id           artist_name            track_name  popularity  \\\n",
      "0      32894.0              Röyksopp  Röyksopp's Night Out        27.0   \n",
      "1      46652.0  Thievery Corporation      The Shining Path        31.0   \n",
      "2      30097.0        Dillon Francis             Hurricane        28.0   \n",
      "3      62177.0              Dubloadz                 Nitro        34.0   \n",
      "4      24907.0           What So Not      Divide & Conquer        32.0   \n",
      "5      89064.0            Axel Boman                 Hello        47.0   \n",
      "6      43760.0        Jordan Comolli                 Clash        46.0   \n",
      "\n",
      "   acousticness  danceability  duration_ms  energy  instrumentalness key  \\\n",
      "0       0.00468         0.652         -1.0   0.941          0.792000  A#   \n",
      "1       0.01270         0.622     218293.0   0.890          0.950000   D   \n",
      "2       0.00306         0.620     215613.0   0.755          0.011800  G#   \n",
      "3       0.02540         0.774     166875.0   0.700          0.002530  C#   \n",
      "4       0.00465         0.638     222369.0   0.587          0.909000  F#   \n",
      "5       0.00523         0.755     519468.0   0.731          0.854000   D   \n",
      "6       0.02890         0.572     214408.0   0.803          0.000008   B   \n",
      "\n",
      "   liveness  loudness   mode  speechiness               tempo obtained_date  \\\n",
      "0     0.115    -5.201  Minor       0.0748             100.889         4-Apr   \n",
      "1     0.124    -7.043  Minor       0.0300  115.00200000000001         4-Apr   \n",
      "2     0.534    -4.617  Major       0.0345             127.994         4-Apr   \n",
      "3     0.157    -4.498  Major       0.2390             128.014         4-Apr   \n",
      "4     0.157    -6.266  Major       0.0413             145.036         4-Apr   \n",
      "5     0.216   -10.517  Minor       0.0412                   ?         4-Apr   \n",
      "6     0.106    -4.294  Major       0.3510             149.995         4-Apr   \n",
      "\n",
      "   valence music_genre  \n",
      "0    0.759  Electronic  \n",
      "1    0.531  Electronic  \n",
      "2    0.333  Electronic  \n",
      "3    0.270  Electronic  \n",
      "4    0.323  Electronic  \n",
      "5    0.614  Electronic  \n",
      "6    0.230  Electronic  \n",
      "       instance_id        artist_name                track_name  popularity  \\\n",
      "50000      58878.0              BEXEY                  GO GETTA        59.0   \n",
      "50001      43557.0          Roy Woods       Drama (feat. Drake)        72.0   \n",
      "50002      39767.0             Berner  Lovin' Me (feat. Smiggz)        51.0   \n",
      "50003      57944.0          The-Dream         Shawty Is Da Shit        65.0   \n",
      "50004      63470.0  Naughty By Nature            Hip Hop Hooray        67.0   \n",
      "\n",
      "       acousticness  danceability  duration_ms  energy  instrumentalness key  \\\n",
      "50000       0.03340         0.913         -1.0   0.574               0.0  C#   \n",
      "50001       0.15700         0.709     251860.0   0.362               0.0   B   \n",
      "50002       0.00597         0.693     189483.0   0.763               0.0   D   \n",
      "50003       0.08310         0.782     262773.0   0.472               0.0   G   \n",
      "50004       0.10200         0.862     267267.0   0.642               0.0  F#   \n",
      "\n",
      "       liveness  loudness   mode  speechiness               tempo  \\\n",
      "50000     0.119    -7.022  Major       0.2980   98.02799999999999   \n",
      "50001     0.109    -9.814  Major       0.0550  122.04299999999999   \n",
      "50002     0.143    -5.443  Major       0.1460             131.079   \n",
      "50003     0.106    -5.016  Minor       0.0441   75.88600000000001   \n",
      "50004     0.272   -13.652  Minor       0.1010   99.20100000000001   \n",
      "\n",
      "      obtained_date  valence music_genre  \n",
      "50000         4-Apr    0.330     Hip-Hop  \n",
      "50001         4-Apr    0.113     Hip-Hop  \n",
      "50002         4-Apr    0.395     Hip-Hop  \n",
      "50003         4-Apr    0.354     Hip-Hop  \n",
      "50004         4-Apr    0.765     Hip-Hop  \n"
     ]
    }
   ],
   "source": [
    "# Load the data\n",
    "# data file is located in folder data\n",
    "df = pd.read_csv('./rawdata/music_genre.csv')\n",
    "print(df.head(7))\n",
    "print(df.tail())"
   ]
  },
  {
   "cell_type": "code",
   "execution_count": 15,
   "id": "521c263a",
   "metadata": {},
   "outputs": [
    {
     "name": "stdout",
     "output_type": "stream",
     "text": [
      "instance_id         5\n",
      "artist_name         5\n",
      "track_name          5\n",
      "popularity          5\n",
      "acousticness        5\n",
      "danceability        5\n",
      "duration_ms         5\n",
      "energy              5\n",
      "instrumentalness    5\n",
      "key                 5\n",
      "liveness            5\n",
      "loudness            5\n",
      "mode                5\n",
      "speechiness         5\n",
      "tempo               5\n",
      "obtained_date       5\n",
      "valence             5\n",
      "music_genre         5\n",
      "dtype: int64\n"
     ]
    }
   ],
   "source": [
    "# count the number of NaN values in each column\n",
    "print(df.isnull().sum())"
   ]
  },
  {
   "cell_type": "code",
   "execution_count": 16,
   "id": "257e295f",
   "metadata": {},
   "outputs": [
    {
     "name": "stdout",
     "output_type": "stream",
     "text": [
      "instance_id         0\n",
      "artist_name         0\n",
      "track_name          0\n",
      "popularity          0\n",
      "acousticness        0\n",
      "danceability        0\n",
      "duration_ms         0\n",
      "energy              0\n",
      "instrumentalness    0\n",
      "key                 0\n",
      "liveness            0\n",
      "loudness            0\n",
      "mode                0\n",
      "speechiness         0\n",
      "tempo               0\n",
      "obtained_date       0\n",
      "valence             0\n",
      "music_genre         0\n",
      "dtype: int64\n"
     ]
    }
   ],
   "source": [
    "# mark missing or 0 values as NaN\n",
    "df = df.replace(0, np.NaN)\n",
    "# drop rows with missing values\n",
    "df.dropna(inplace=True)\n",
    "print(df.isnull().sum())"
   ]
  },
  {
   "cell_type": "code",
   "execution_count": 17,
   "id": "55ea7680",
   "metadata": {
    "scrolled": true
   },
   "outputs": [
    {
     "name": "stdout",
     "output_type": "stream",
     "text": [
      "   instance_id           artist_name            track_name  popularity  \\\n",
      "0      32894.0              Röyksopp  Röyksopp's Night Out        27.0   \n",
      "1      46652.0  Thievery Corporation      The Shining Path        31.0   \n",
      "2      30097.0        Dillon Francis             Hurricane        28.0   \n",
      "3      62177.0              Dubloadz                 Nitro        34.0   \n",
      "4      24907.0           What So Not      Divide & Conquer        32.0   \n",
      "5      89064.0            Axel Boman                 Hello        47.0   \n",
      "6      43760.0        Jordan Comolli                 Clash        46.0   \n",
      "\n",
      "   acousticness  danceability  duration_ms  energy  instrumentalness key  \\\n",
      "0       0.00468         0.652         -1.0   0.941          0.792000  A#   \n",
      "1       0.01270         0.622     218293.0   0.890          0.950000   D   \n",
      "2       0.00306         0.620     215613.0   0.755          0.011800  G#   \n",
      "3       0.02540         0.774     166875.0   0.700          0.002530  C#   \n",
      "4       0.00465         0.638     222369.0   0.587          0.909000  F#   \n",
      "5       0.00523         0.755     519468.0   0.731          0.854000   D   \n",
      "6       0.02890         0.572     214408.0   0.803          0.000008   B   \n",
      "\n",
      "   liveness  loudness   mode  speechiness               tempo obtained_date  \\\n",
      "0     0.115    -5.201  Minor       0.0748             100.889         4-Apr   \n",
      "1     0.124    -7.043  Minor       0.0300  115.00200000000001         4-Apr   \n",
      "2     0.534    -4.617  Major       0.0345             127.994         4-Apr   \n",
      "3     0.157    -4.498  Major       0.2390             128.014         4-Apr   \n",
      "4     0.157    -6.266  Major       0.0413             145.036         4-Apr   \n",
      "5     0.216   -10.517  Minor       0.0412                   ?         4-Apr   \n",
      "6     0.106    -4.294  Major       0.3510             149.995         4-Apr   \n",
      "\n",
      "   valence music_genre  \n",
      "0    0.759  Electronic  \n",
      "1    0.531  Electronic  \n",
      "2    0.333  Electronic  \n",
      "3    0.270  Electronic  \n",
      "4    0.323  Electronic  \n",
      "5    0.614  Electronic  \n",
      "6    0.230  Electronic  \n",
      "       instance_id               artist_name                      track_name  \\\n",
      "49992      67111.0                Ghostemane                           Hades   \n",
      "49994      21821.0               empty_field  Drogba (Joanna) - WizKid Remix   \n",
      "49995      56911.0                 Too $hort               Shake That Monkey   \n",
      "49996      20269.0  Unknown Mortal Orchestra     So Good at Being in Trouble   \n",
      "49999      28408.0              Night Lovell                     Barbie Doll   \n",
      "\n",
      "       popularity  acousticness  danceability  duration_ms  energy  \\\n",
      "49992        55.0      0.039100         0.829     127128.0   0.590   \n",
      "49994        62.0      0.010600         0.944     197923.0   0.559   \n",
      "49995        55.0      0.000577         0.937     278707.0   0.695   \n",
      "49996        57.0      0.036300         0.829     230147.0   0.435   \n",
      "49999        56.0      0.133000         0.849     237667.0   0.660   \n",
      "\n",
      "       instrumentalness key  liveness  loudness   mode  speechiness  \\\n",
      "49992          0.010700   A    0.1140    -7.818  Minor       0.2630   \n",
      "49994          0.000033   B    0.0775    -7.706  Minor       0.0640   \n",
      "49995          0.000032   C    0.2950    -6.932  Major       0.1340   \n",
      "49996          0.878000   C    0.1190   -10.136  Major       0.0515   \n",
      "49999          0.000008   C    0.2960    -7.195  Major       0.0516   \n",
      "\n",
      "                   tempo obtained_date  valence music_genre  \n",
      "49992             112.97         4-Apr    0.332     Hip-Hop  \n",
      "49994            107.992         4-Apr    0.705     Hip-Hop  \n",
      "49995  99.99700000000001         4-Apr    0.457     Hip-Hop  \n",
      "49996            103.816         4-Apr    0.594     Hip-Hop  \n",
      "49999             99.988         4-Apr    0.629     Hip-Hop  \n"
     ]
    }
   ],
   "source": [
    "print(df.head(7))\n",
    "print(df.tail())"
   ]
  },
  {
   "cell_type": "code",
   "execution_count": 18,
   "id": "0c1d70b6",
   "metadata": {},
   "outputs": [],
   "source": [
    "# normalize the data attributes loudness\n",
    "df['loudness'] = df['loudness'].astype(float)\n",
    "df['normalized_loudness'] = (df['loudness'] - df['loudness'].min()) / (df['loudness'].max() - df['loudness'].min())"
   ]
  },
  {
   "cell_type": "code",
   "execution_count": 19,
   "id": "478715bb",
   "metadata": {},
   "outputs": [],
   "source": [
    "# normalize the data attributes duration_ms\n",
    "df['duration_ms'] = df['duration_ms'].astype(float)\n",
    "df['normalized_duration_ms'] = (df['duration_ms'] - df['duration_ms'].min()) / (df['duration_ms'].max() - df['duration_ms'].min())"
   ]
  },
  {
   "cell_type": "code",
   "execution_count": 20,
   "id": "b05331ae",
   "metadata": {},
   "outputs": [],
   "source": [
    "# normalize the data attributes popularity\n",
    "df['popularity'] = df['popularity'].astype(float)\n",
    "df['normalized_popularity'] = (df['popularity'] - df['popularity'].min()) / (df['popularity'].max() - df['popularity'].min())"
   ]
  },
  {
   "cell_type": "code",
   "execution_count": 21,
   "id": "f5655a78",
   "metadata": {},
   "outputs": [
    {
     "name": "stdout",
     "output_type": "stream",
     "text": [
      "   instance_id           artist_name            track_name  popularity  \\\n",
      "0      32894.0              Röyksopp  Röyksopp's Night Out        27.0   \n",
      "1      46652.0  Thievery Corporation      The Shining Path        31.0   \n",
      "2      30097.0        Dillon Francis             Hurricane        28.0   \n",
      "3      62177.0              Dubloadz                 Nitro        34.0   \n",
      "4      24907.0           What So Not      Divide & Conquer        32.0   \n",
      "\n",
      "   acousticness  danceability  duration_ms  energy  instrumentalness key  ...  \\\n",
      "0       0.00468         0.652         -1.0   0.941           0.79200  A#  ...   \n",
      "1       0.01270         0.622     218293.0   0.890           0.95000   D  ...   \n",
      "2       0.00306         0.620     215613.0   0.755           0.01180  G#  ...   \n",
      "3       0.02540         0.774     166875.0   0.700           0.00253  C#  ...   \n",
      "4       0.00465         0.638     222369.0   0.587           0.90900  F#  ...   \n",
      "\n",
      "   loudness   mode speechiness               tempo obtained_date valence  \\\n",
      "0    -5.201  Minor      0.0748             100.889         4-Apr   0.759   \n",
      "1    -7.043  Minor      0.0300  115.00200000000001         4-Apr   0.531   \n",
      "2    -4.617  Major      0.0345             127.994         4-Apr   0.333   \n",
      "3    -4.498  Major      0.2390             128.014         4-Apr   0.270   \n",
      "4    -6.266  Major      0.0413             145.036         4-Apr   0.323   \n",
      "\n",
      "   music_genre normalized_loudness  normalized_duration_ms  \\\n",
      "0   Electronic            0.823883                0.000000   \n",
      "1   Electronic            0.787616                0.045190   \n",
      "2   Electronic            0.835381                0.044635   \n",
      "3   Electronic            0.837724                0.034546   \n",
      "4   Electronic            0.802914                0.046034   \n",
      "\n",
      "   normalized_popularity  \n",
      "0               0.265306  \n",
      "1               0.306122  \n",
      "2               0.275510  \n",
      "3               0.336735  \n",
      "4               0.316327  \n",
      "\n",
      "[5 rows x 21 columns]\n",
      "       instance_id               artist_name                      track_name  \\\n",
      "49992      67111.0                Ghostemane                           Hades   \n",
      "49994      21821.0               empty_field  Drogba (Joanna) - WizKid Remix   \n",
      "49995      56911.0                 Too $hort               Shake That Monkey   \n",
      "49996      20269.0  Unknown Mortal Orchestra     So Good at Being in Trouble   \n",
      "49999      28408.0              Night Lovell                     Barbie Doll   \n",
      "\n",
      "       popularity  acousticness  danceability  duration_ms  energy  \\\n",
      "49992        55.0      0.039100         0.829     127128.0   0.590   \n",
      "49994        62.0      0.010600         0.944     197923.0   0.559   \n",
      "49995        55.0      0.000577         0.937     278707.0   0.695   \n",
      "49996        57.0      0.036300         0.829     230147.0   0.435   \n",
      "49999        56.0      0.133000         0.849     237667.0   0.660   \n",
      "\n",
      "       instrumentalness key  ...  loudness   mode speechiness  \\\n",
      "49992          0.010700   A  ...    -7.818  Minor      0.2630   \n",
      "49994          0.000033   B  ...    -7.706  Minor      0.0640   \n",
      "49995          0.000032   C  ...    -6.932  Major      0.1340   \n",
      "49996          0.878000   C  ...   -10.136  Major      0.0515   \n",
      "49999          0.000008   C  ...    -7.195  Major      0.0516   \n",
      "\n",
      "                   tempo obtained_date valence  music_genre  \\\n",
      "49992             112.97         4-Apr   0.332      Hip-Hop   \n",
      "49994            107.992         4-Apr   0.705      Hip-Hop   \n",
      "49995  99.99700000000001         4-Apr   0.457      Hip-Hop   \n",
      "49996            103.816         4-Apr   0.594      Hip-Hop   \n",
      "49999             99.988         4-Apr   0.629      Hip-Hop   \n",
      "\n",
      "      normalized_loudness  normalized_duration_ms  normalized_popularity  \n",
      "49992            0.772357                0.026317               0.551020  \n",
      "49994            0.774562                0.040973               0.622449  \n",
      "49995            0.789801                0.057696               0.551020  \n",
      "49996            0.726718                0.047644               0.571429  \n",
      "49999            0.784623                0.049200               0.561224  \n",
      "\n",
      "[5 rows x 21 columns]\n"
     ]
    }
   ],
   "source": [
    "print(df.head())\n",
    "print(df.tail())"
   ]
  },
  {
   "cell_type": "code",
   "execution_count": 22,
   "id": "3febcc21",
   "metadata": {},
   "outputs": [],
   "source": [
    "df.to_csv('input.csv')"
   ]
  }
 ],
 "metadata": {
  "kernelspec": {
   "display_name": "Python 3 (ipykernel)",
   "language": "python",
   "name": "python3"
  },
  "language_info": {
   "codemirror_mode": {
    "name": "ipython",
    "version": 3
   },
   "file_extension": ".py",
   "mimetype": "text/x-python",
   "name": "python",
   "nbconvert_exporter": "python",
   "pygments_lexer": "ipython3",
   "version": "3.10.4"
  }
 },
 "nbformat": 4,
 "nbformat_minor": 5
}
