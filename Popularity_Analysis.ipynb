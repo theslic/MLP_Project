{
 "cells": [
  {
   "cell_type": "code",
   "execution_count": 38,
   "id": "b351a540",
   "metadata": {
    "scrolled": true
   },
   "outputs": [
    {
     "name": "stdout",
     "output_type": "stream",
     "text": [
      "   Index  Highest Charting Position  Number of Times Charted  \\\n",
      "0      1                          1                        8   \n",
      "1      2                          2                        3   \n",
      "2      3                          1                       11   \n",
      "3      4                          3                        5   \n",
      "4      5                          5                        1   \n",
      "\n",
      "  Week of Highest Charting                          Song Name     Streams  \\\n",
      "0   2021-07-23--2021-07-30                            Beggin'  48,633,449   \n",
      "1   2021-07-23--2021-07-30          STAY (with Justin Bieber)  47,248,719   \n",
      "2   2021-06-25--2021-07-02                           good 4 u  40,162,559   \n",
      "3   2021-07-02--2021-07-09                         Bad Habits  37,799,456   \n",
      "4   2021-07-23--2021-07-30  INDUSTRY BABY (feat. Jack Harlow)  33,948,454   \n",
      "\n",
      "           Artist Artist Followers                 Song ID  \\\n",
      "0        Måneskin          3377762  3Wrjm47oTz2sjIgck11l5e   \n",
      "1   The Kid LAROI          2230022  5HCyWlXZPP0y6Gqq8TgA20   \n",
      "2  Olivia Rodrigo          6266514  4ZtFanR9U6ndgddUvNcjcG   \n",
      "3      Ed Sheeran         83293380  6PQ88X9TkUIAUIZJHW2upE   \n",
      "4       Lil Nas X          5473565  27NovPIUIRrOZoCHxABJwK   \n",
      "\n",
      "                                    Genre  ... Danceability Energy Loudness  \\\n",
      "0  ['indie rock italiano', 'italian pop']  ...        0.714    0.8   -4.808   \n",
      "1                  ['australian hip hop']  ...        0.591  0.764   -5.484   \n",
      "2                                 ['pop']  ...        0.563  0.664   -5.044   \n",
      "3                       ['pop', 'uk pop']  ...        0.808  0.897   -3.712   \n",
      "4           ['lgbtq+ hip hop', 'pop rap']  ...        0.736  0.704   -7.409   \n",
      "\n",
      "  Speechiness Acousticness Liveness    Tempo Duration (ms) Valence  Chord  \n",
      "0      0.0504        0.127    0.359  134.002        211560   0.589      B  \n",
      "1      0.0483       0.0383    0.103  169.928        141806   0.478  C#/Db  \n",
      "2       0.154        0.335   0.0849  166.928        178147   0.688      A  \n",
      "3      0.0348       0.0469    0.364  126.026        231041   0.591      B  \n",
      "4      0.0615       0.0203   0.0501  149.995        212000   0.894  D#/Eb  \n",
      "\n",
      "[5 rows x 23 columns]\n",
      "      Index  Highest Charting Position  Number of Times Charted  \\\n",
      "1551   1552                        195                        1   \n",
      "1552   1553                        196                        1   \n",
      "1553   1554                        197                        1   \n",
      "1554   1555                        198                        1   \n",
      "1555   1556                        199                        1   \n",
      "\n",
      "     Week of Highest Charting                           Song Name    Streams  \\\n",
      "1551   2019-12-27--2020-01-03                           New Rules  4,630,675   \n",
      "1552   2019-12-27--2020-01-03                  Cheirosa - Ao Vivo  4,623,030   \n",
      "1553   2019-12-27--2020-01-03           Havana (feat. Young Thug)  4,620,876   \n",
      "1554   2019-12-27--2020-01-03          Surtada - Remix Brega Funk  4,607,385   \n",
      "1555   2019-12-27--2020-01-03  Lover (Remix) [feat. Shawn Mendes]  4,595,450   \n",
      "\n",
      "                             Artist Artist Followers                 Song ID  \\\n",
      "1551                       Dua Lipa         27167675  2ekn2ttSfGqwhhate0LSR0   \n",
      "1552                 Jorge & Mateus         15019109  2PWjKmjyTZeDpmOUa3a5da   \n",
      "1553                 Camila Cabello         22698747  1rfofaqEpACxVEHIZBJe6W   \n",
      "1554  Dadá Boladão, Tati Zaqui, OIK           208630  5F8ffc8KWKNawllr5WsW0r   \n",
      "1555                   Taylor Swift         42227614  3i9UVldZOE0aD0JnyfAZZ0   \n",
      "\n",
      "                                                  Genre  ... Danceability  \\\n",
      "1551                     ['dance pop', 'pop', 'uk pop']  ...        0.762   \n",
      "1552           ['sertanejo', 'sertanejo universitario']  ...        0.528   \n",
      "1553  ['dance pop', 'electropop', 'pop', 'post-teen ...  ...        0.765   \n",
      "1554                     ['brega funk', 'funk carioca']  ...        0.832   \n",
      "1555                           ['pop', 'post-teen pop']  ...        0.448   \n",
      "\n",
      "     Energy Loudness Speechiness Acousticness Liveness    Tempo Duration (ms)  \\\n",
      "1551    0.7   -6.021      0.0694      0.00261    0.153  116.073        209320   \n",
      "1552   0.87   -3.123      0.0851         0.24    0.333   152.37        181930   \n",
      "1553  0.523   -4.333        0.03        0.184    0.132  104.988        217307   \n",
      "1554   0.55   -7.026      0.0587        0.249    0.182  154.064        152784   \n",
      "1555  0.603   -7.176       0.064        0.433   0.0862  205.272        221307   \n",
      "\n",
      "     Valence Chord  \n",
      "1551   0.608     A  \n",
      "1552   0.714     B  \n",
      "1553   0.394     D  \n",
      "1554   0.881     F  \n",
      "1555   0.422     G  \n",
      "\n",
      "[5 rows x 23 columns]\n",
      "(1556, 23)\n"
     ]
    }
   ],
   "source": [
    "import pandas as pd\n",
    "import numpy as np\n",
    "df = pd.read_csv(\"spotify_dataset.csv\")\n",
    "print(df.head())\n",
    "print(df.tail())\n",
    "print(df.shape)"
   ]
  },
  {
   "cell_type": "code",
   "execution_count": 39,
   "id": "3786c496",
   "metadata": {},
   "outputs": [
    {
     "name": "stdout",
     "output_type": "stream",
     "text": [
      "(1545, 23)\n"
     ]
    }
   ],
   "source": [
    "df.replace(' ', np.nan, inplace=True)\n",
    "df.dropna(inplace=True)\n",
    "print(df.shape)"
   ]
  },
  {
   "cell_type": "code",
   "execution_count": 40,
   "id": "3177d776",
   "metadata": {},
   "outputs": [
    {
     "name": "stdout",
     "output_type": "stream",
     "text": [
      "0       0.763187\n",
      "1       0.737844\n",
      "2       0.754339\n",
      "3       0.804274\n",
      "4       0.665679\n",
      "          ...   \n",
      "1551    0.717713\n",
      "1552    0.826354\n",
      "1553    0.780993\n",
      "1554    0.680037\n",
      "1555    0.674414\n",
      "Name: Normalized_loud, Length: 1545, dtype: float64\n"
     ]
    }
   ],
   "source": [
    "df['Loudness'] = df['Loudness'].astype(float)\n",
    "column='Loudness'\n",
    "df['Normalized_loud'] = (df[column] - df[column].min()) / (df[column].max() - df[column].min())\n",
    "print(df['Normalized_loud'])"
   ]
  },
  {
   "cell_type": "code",
   "execution_count": 41,
   "id": "3f8b69f6",
   "metadata": {},
   "outputs": [
    {
     "name": "stdout",
     "output_type": "stream",
     "text": [
      "[ 1. 12.] 1 142\n"
     ]
    },
    {
     "data": {
      "image/png": "[encoded data removed]",
      "text/plain": [
       "<Figure size 432x288 with 1 Axes>"
      ]
     },
     "metadata": {
      "needs_background": "light"
     },
     "output_type": "display_data"
    }
   ],
   "source": [
    "import matplotlib.pyplot as plt\n",
    "from numpy import percentile\n",
    "temp = df['Number of Times Charted']\n",
    "plt.boxplot(temp)\n",
    "quartiles = percentile(temp, [25, 75])\n",
    "data_min, data_max = temp.min(), temp.max()\n",
    "print(quartiles, data_min, data_max)\n",
    "\n",
    "# We can see that the data is heavily skewed. Since there are so many low values\n",
    "# the higher values seem like a lot of outliers"
   ]
  },
  {
   "cell_type": "code",
   "execution_count": 42,
   "id": "54443b1e",
   "metadata": {},
   "outputs": [
    {
     "name": "stdout",
     "output_type": "stream",
     "text": [
      "[ 37. 137.]\n",
      "1 200\n"
     ]
    },
    {
     "data": {
      "image/png": "[encoded data removed]",
      "text/plain": [
       "<Figure size 432x288 with 1 Axes>"
      ]
     },
     "metadata": {
      "needs_background": "light"
     },
     "output_type": "display_data"
    }
   ],
   "source": [
    "plt.boxplot(df['Highest Charting Position'])\n",
    "temp = df['Highest Charting Position']\n",
    "plt.boxplot(temp)\n",
    "quartiles = percentile(temp, [25, 75])\n",
    "data_min, data_max = temp.min(), temp.max()\n",
    "print(quartiles)\n",
    "print(data_min, data_max)\n",
    "\n",
    "# very well balanced"
   ]
  },
  {
   "cell_type": "code",
   "execution_count": 43,
   "id": "f74d80d4",
   "metadata": {
    "scrolled": false
   },
   "outputs": [
    {
     "data": {
      "text/plain": [
       "{'whiskers': [<matplotlib.lines.Line2D at 0x232cbfd08b0>,\n",
       "  <matplotlib.lines.Line2D at 0x232cbfd0c40>,\n",
       "  <matplotlib.lines.Line2D at 0x232cbfe9250>,\n",
       "  <matplotlib.lines.Line2D at 0x232cbfe95e0>,\n",
       "  <matplotlib.lines.Line2D at 0x232cbff5b80>,\n",
       "  <matplotlib.lines.Line2D at 0x232cbff5f10>,\n",
       "  <matplotlib.lines.Line2D at 0x232cc00c4f0>,\n",
       "  <matplotlib.lines.Line2D at 0x232cc00c880>,\n",
       "  <matplotlib.lines.Line2D at 0x232cc017e20>,\n",
       "  <matplotlib.lines.Line2D at 0x232cc0261f0>,\n",
       "  <matplotlib.lines.Line2D at 0x232cc031790>,\n",
       "  <matplotlib.lines.Line2D at 0x232cc031b20>,\n",
       "  <matplotlib.lines.Line2D at 0x232cc047100>,\n",
       "  <matplotlib.lines.Line2D at 0x232cc047490>],\n",
       " 'caps': [<matplotlib.lines.Line2D at 0x232cbfd0fd0>,\n",
       "  <matplotlib.lines.Line2D at 0x232cbfdd3a0>,\n",
       "  <matplotlib.lines.Line2D at 0x232cbfe9970>,\n",
       "  <matplotlib.lines.Line2D at 0x232cbfe9d00>,\n",
       "  <matplotlib.lines.Line2D at 0x232cc0012e0>,\n",
       "  <matplotlib.lines.Line2D at 0x232cc001670>,\n",
       "  <matplotlib.lines.Line2D at 0x232cc00cc10>,\n",
       "  <matplotlib.lines.Line2D at 0x232cc00cfa0>,\n",
       "  <matplotlib.lines.Line2D at 0x232cc026580>,\n",
       "  <matplotlib.lines.Line2D at 0x232cc026910>,\n",
       "  <matplotlib.lines.Line2D at 0x232cc031eb0>,\n",
       "  <matplotlib.lines.Line2D at 0x232cc03b280>,\n",
       "  <matplotlib.lines.Line2D at 0x232cc047820>,\n",
       "  <matplotlib.lines.Line2D at 0x232cc047bb0>],\n",
       " 'boxes': [<matplotlib.lines.Line2D at 0x232cbfd0520>,\n",
       "  <matplotlib.lines.Line2D at 0x232cbfdde80>,\n",
       "  <matplotlib.lines.Line2D at 0x232cbff57f0>,\n",
       "  <matplotlib.lines.Line2D at 0x232cc00c160>,\n",
       "  <matplotlib.lines.Line2D at 0x232cc017a90>,\n",
       "  <matplotlib.lines.Line2D at 0x232cc031400>,\n",
       "  <matplotlib.lines.Line2D at 0x232cc03bd30>],\n",
       " 'medians': [<matplotlib.lines.Line2D at 0x232cbfdd730>,\n",
       "  <matplotlib.lines.Line2D at 0x232cbff50d0>,\n",
       "  <matplotlib.lines.Line2D at 0x232cc001a00>,\n",
       "  <matplotlib.lines.Line2D at 0x232cc017370>,\n",
       "  <matplotlib.lines.Line2D at 0x232cc026ca0>,\n",
       "  <matplotlib.lines.Line2D at 0x232cc03b610>,\n",
       "  <matplotlib.lines.Line2D at 0x232cc047f40>],\n",
       " 'fliers': [<matplotlib.lines.Line2D at 0x232cbfddac0>,\n",
       "  <matplotlib.lines.Line2D at 0x232cbff5460>,\n",
       "  <matplotlib.lines.Line2D at 0x232cc001d90>,\n",
       "  <matplotlib.lines.Line2D at 0x232cc017700>,\n",
       "  <matplotlib.lines.Line2D at 0x232cc031070>,\n",
       "  <matplotlib.lines.Line2D at 0x232cc03b9a0>,\n",
       "  <matplotlib.lines.Line2D at 0x232cc053310>],\n",
       " 'means': []}"
      ]
     },
     "execution_count": 43,
     "metadata": {},
     "output_type": "execute_result"
    },
    {
     "data": {
      "image/png": "[encoded data removed]",
      "text/plain": [
       "<Figure size 1440x720 with 1 Axes>"
      ]
     },
     "metadata": {
      "needs_background": "light"
     },
     "output_type": "display_data"
    }
   ],
   "source": [
    "plt.figure(figsize=(20, 10))\n",
    "plt.boxplot(df[['Normalized_loud', 'Danceability', 'Energy', 'Speechiness', 'Acousticness', 'Liveness', 'Valence']].astype(float))\n",
    "# By plotting the coloumns with values ranging [0, 1] together it makes it easier ti see skews in the data set"
   ]
  },
  {
   "cell_type": "code",
   "execution_count": 44,
   "id": "6e486daa",
   "metadata": {},
   "outputs": [
    {
     "name": "stdout",
     "output_type": "stream",
     "text": [
      "[ 2123734. 22698747.]\n",
      "4883 83337783\n"
     ]
    },
    {
     "data": {
      "image/png": "[encoded data removed]",
      "text/plain": [
       "<Figure size 432x288 with 1 Axes>"
      ]
     },
     "metadata": {
      "needs_background": "light"
     },
     "output_type": "display_data"
    }
   ],
   "source": [
    "plt.boxplot(df['Artist Followers'].astype(int))\n",
    "temp = df['Artist Followers'].astype(int)\n",
    "plt.boxplot(temp)\n",
    "quartiles = percentile(temp, [25, 75])\n",
    "data_min, data_max = temp.min(), temp.max()\n",
    "print(quartiles)\n",
    "print(data_min, data_max)\n",
    "\n",
    "# This is a very good set of data, the outliers would be the really famous artists"
   ]
  },
  {
   "cell_type": "code",
   "execution_count": 45,
   "id": "819e2a30",
   "metadata": {},
   "outputs": [
    {
     "name": "stdout",
     "output_type": "stream",
     "text": [
      "[65. 80.]\n",
      "0 100\n"
     ]
    },
    {
     "data": {
      "image/png": "[encoded data removed]",
      "text/plain": [
       "<Figure size 432x288 with 1 Axes>"
      ]
     },
     "metadata": {
      "needs_background": "light"
     },
     "output_type": "display_data"
    }
   ],
   "source": [
    "plt.boxplot(df['Popularity'].astype(int))\n",
    "temp = df['Popularity'].astype(int)\n",
    "plt.boxplot(temp)\n",
    "quartiles = percentile(temp, [25, 75])\n",
    "data_min, data_max = temp.min(), temp.max()\n",
    "print(quartiles)\n",
    "print(data_min, data_max)\n",
    "\n",
    "# Since most of the values are in the higher numbers we can conclude that most of the songs are very popular\n",
    "# is is more uncommon to find a unpopular song meaning this dataset is on the popular songs"
   ]
  },
  {
   "cell_type": "code",
   "execution_count": 46,
   "id": "ddd967be",
   "metadata": {},
   "outputs": [
    {
     "data": {
      "text/plain": [
       "Text(0, 0.5, 'Song Popularity')"
      ]
     },
     "execution_count": 46,
     "metadata": {},
     "output_type": "execute_result"
    },
    {
     "data": {
      "image/png": "[encoded data removed]",
      "text/plain": [
       "<Figure size 432x288 with 1 Axes>"
      ]
     },
     "metadata": {
      "needs_background": "light"
     },
     "output_type": "display_data"
    }
   ],
   "source": [
    "plt.scatter(df['Artist Followers'].astype(int), df['Popularity'].astype(int))\n",
    "plt.xlabel('Artist Popularity')\n",
    "plt.ylabel('Song Popularity')\n",
    "\n",
    "# There is a slight trend in the relationship between Song popularity and Artist popularity.\n",
    "# If the artist is popular it is more likely their song will be popular"
   ]
  },
  {
   "cell_type": "code",
   "execution_count": 47,
   "id": "ab548ed2",
   "metadata": {},
   "outputs": [
    {
     "data": {
      "text/plain": [
       "Text(0, 0.5, 'Song Popularity')"
      ]
     },
     "execution_count": 47,
     "metadata": {},
     "output_type": "execute_result"
    },
    {
     "data": {
      "image/png": "[encoded data removed]",
      "text/plain": [
       "<Figure size 432x288 with 1 Axes>"
      ]
     },
     "metadata": {
      "needs_background": "light"
     },
     "output_type": "display_data"
    }
   ],
   "source": [
    "plt.scatter(df['Number of Times Charted'].astype(int), df['Popularity'].astype(int))\n",
    "plt.xlabel('Number of Times Charted')\n",
    "plt.ylabel('Song Popularity')\n",
    "\n",
    "# There seems to be a slight positive correlation, however there are some\n",
    "# songs who were charted multiple times, but not popular"
   ]
  },
  {
   "cell_type": "code",
   "execution_count": 48,
   "id": "a5bb75d4",
   "metadata": {},
   "outputs": [
    {
     "data": {
      "text/plain": [
       "(1545, 24)"
      ]
     },
     "execution_count": 48,
     "metadata": {},
     "output_type": "execute_result"
    }
   ],
   "source": [
    "# Remove outliers to make the RSME score better\n",
    "df.shape"
   ]
  },
  {
   "cell_type": "code",
   "execution_count": 49,
   "id": "4c871bb3",
   "metadata": {},
   "outputs": [
    {
     "name": "stderr",
     "output_type": "stream",
     "text": [
      "C:\\Users\\seang\\AppData\\Local\\Temp/ipykernel_5676/1715832430.py:5: FutureWarning: Automatic reindexing on DataFrame vs Series comparisons is deprecated and will raise ValueError in a future version.  Do `left, right = left.align(right, axis=1, copy=False)` before e.g. `left == right`\n",
      "  df = df[~((df[modify_cols] < (Q1 - 1.5 * IQR)) |(df[modify_cols] > (Q3 + 1.5 * IQR))).any(axis=1)]\n"
     ]
    },
    {
     "data": {
      "text/plain": [
       "(1375, 24)"
      ]
     },
     "execution_count": 49,
     "metadata": {},
     "output_type": "execute_result"
    }
   ],
   "source": [
    "modify_cols = ['Number of Times Charted', 'Popularity', 'Artist Followers']\n",
    "Q1 = df[modify_cols].quantile(0.25)\n",
    "Q3 = df[modify_cols].quantile(0.75)\n",
    "IQR = Q3 - Q1\n",
    "df = df[~((df[modify_cols] < (Q1 - 1.5 * IQR)) |(df[modify_cols] > (Q3 + 1.5 * IQR))).any(axis=1)]\n",
    "df.shape"
   ]
  },
  {
   "cell_type": "code",
   "execution_count": 50,
   "id": "2cbdf757",
   "metadata": {},
   "outputs": [],
   "source": [
    "df.to_csv('pop_input.csv')"
   ]
  },
  {
   "cell_type": "code",
   "execution_count": 51,
   "id": "16f17728",
   "metadata": {},
   "outputs": [
    {
     "data": {
      "text/html": [
       "<div>\n",
       "<style scoped>\n",
       "    .dataframe tbody tr th:only-of-type {\n",
       "        vertical-align: middle;\n",
       "    }\n",
       "\n",
       "    .dataframe tbody tr th {\n",
       "        vertical-align: top;\n",
       "    }\n",
       "\n",
       "    .dataframe thead th {\n",
       "        text-align: right;\n",
       "    }\n",
       "</style>\n",
       "<table border=\"1\" class=\"dataframe\">\n",
       "  <thead>\n",
       "    <tr style=\"text-align: right;\">\n",
       "      <th></th>\n",
       "      <th>Unnamed: 0</th>\n",
       "      <th>Index</th>\n",
       "      <th>Highest Charting Position</th>\n",
       "      <th>Number of Times Charted</th>\n",
       "      <th>Week of Highest Charting</th>\n",
       "      <th>Song Name</th>\n",
       "      <th>Streams</th>\n",
       "      <th>Artist</th>\n",
       "      <th>Artist Followers</th>\n",
       "      <th>Song ID</th>\n",
       "      <th>...</th>\n",
       "      <th>Energy</th>\n",
       "      <th>Loudness</th>\n",
       "      <th>Speechiness</th>\n",
       "      <th>Acousticness</th>\n",
       "      <th>Liveness</th>\n",
       "      <th>Tempo</th>\n",
       "      <th>Duration (ms)</th>\n",
       "      <th>Valence</th>\n",
       "      <th>Chord</th>\n",
       "      <th>Normalized_loud</th>\n",
       "    </tr>\n",
       "  </thead>\n",
       "  <tbody>\n",
       "    <tr>\n",
       "      <th>0</th>\n",
       "      <td>0</td>\n",
       "      <td>1</td>\n",
       "      <td>1</td>\n",
       "      <td>8</td>\n",
       "      <td>2021-07-23--2021-07-30</td>\n",
       "      <td>Beggin'</td>\n",
       "      <td>48,633,449</td>\n",
       "      <td>Måneskin</td>\n",
       "      <td>3377762</td>\n",
       "      <td>3Wrjm47oTz2sjIgck11l5e</td>\n",
       "      <td>...</td>\n",
       "      <td>0.800</td>\n",
       "      <td>-4.808</td>\n",
       "      <td>0.0504</td>\n",
       "      <td>0.1270</td>\n",
       "      <td>0.3590</td>\n",
       "      <td>134.002</td>\n",
       "      <td>211560</td>\n",
       "      <td>0.589</td>\n",
       "      <td>B</td>\n",
       "      <td>0.763187</td>\n",
       "    </tr>\n",
       "    <tr>\n",
       "      <th>1</th>\n",
       "      <td>1</td>\n",
       "      <td>2</td>\n",
       "      <td>2</td>\n",
       "      <td>3</td>\n",
       "      <td>2021-07-23--2021-07-30</td>\n",
       "      <td>STAY (with Justin Bieber)</td>\n",
       "      <td>47,248,719</td>\n",
       "      <td>The Kid LAROI</td>\n",
       "      <td>2230022</td>\n",
       "      <td>5HCyWlXZPP0y6Gqq8TgA20</td>\n",
       "      <td>...</td>\n",
       "      <td>0.764</td>\n",
       "      <td>-5.484</td>\n",
       "      <td>0.0483</td>\n",
       "      <td>0.0383</td>\n",
       "      <td>0.1030</td>\n",
       "      <td>169.928</td>\n",
       "      <td>141806</td>\n",
       "      <td>0.478</td>\n",
       "      <td>C#/Db</td>\n",
       "      <td>0.737844</td>\n",
       "    </tr>\n",
       "    <tr>\n",
       "      <th>2</th>\n",
       "      <td>2</td>\n",
       "      <td>3</td>\n",
       "      <td>1</td>\n",
       "      <td>11</td>\n",
       "      <td>2021-06-25--2021-07-02</td>\n",
       "      <td>good 4 u</td>\n",
       "      <td>40,162,559</td>\n",
       "      <td>Olivia Rodrigo</td>\n",
       "      <td>6266514</td>\n",
       "      <td>4ZtFanR9U6ndgddUvNcjcG</td>\n",
       "      <td>...</td>\n",
       "      <td>0.664</td>\n",
       "      <td>-5.044</td>\n",
       "      <td>0.1540</td>\n",
       "      <td>0.3350</td>\n",
       "      <td>0.0849</td>\n",
       "      <td>166.928</td>\n",
       "      <td>178147</td>\n",
       "      <td>0.688</td>\n",
       "      <td>A</td>\n",
       "      <td>0.754339</td>\n",
       "    </tr>\n",
       "    <tr>\n",
       "      <th>3</th>\n",
       "      <td>3</td>\n",
       "      <td>4</td>\n",
       "      <td>3</td>\n",
       "      <td>5</td>\n",
       "      <td>2021-07-02--2021-07-09</td>\n",
       "      <td>Bad Habits</td>\n",
       "      <td>37,799,456</td>\n",
       "      <td>Ed Sheeran</td>\n",
       "      <td>83293380</td>\n",
       "      <td>6PQ88X9TkUIAUIZJHW2upE</td>\n",
       "      <td>...</td>\n",
       "      <td>0.897</td>\n",
       "      <td>-3.712</td>\n",
       "      <td>0.0348</td>\n",
       "      <td>0.0469</td>\n",
       "      <td>0.3640</td>\n",
       "      <td>126.026</td>\n",
       "      <td>231041</td>\n",
       "      <td>0.591</td>\n",
       "      <td>B</td>\n",
       "      <td>0.804274</td>\n",
       "    </tr>\n",
       "    <tr>\n",
       "      <th>4</th>\n",
       "      <td>4</td>\n",
       "      <td>5</td>\n",
       "      <td>5</td>\n",
       "      <td>1</td>\n",
       "      <td>2021-07-23--2021-07-30</td>\n",
       "      <td>INDUSTRY BABY (feat. Jack Harlow)</td>\n",
       "      <td>33,948,454</td>\n",
       "      <td>Lil Nas X</td>\n",
       "      <td>5473565</td>\n",
       "      <td>27NovPIUIRrOZoCHxABJwK</td>\n",
       "      <td>...</td>\n",
       "      <td>0.704</td>\n",
       "      <td>-7.409</td>\n",
       "      <td>0.0615</td>\n",
       "      <td>0.0203</td>\n",
       "      <td>0.0501</td>\n",
       "      <td>149.995</td>\n",
       "      <td>212000</td>\n",
       "      <td>0.894</td>\n",
       "      <td>D#/Eb</td>\n",
       "      <td>0.665679</td>\n",
       "    </tr>\n",
       "  </tbody>\n",
       "</table>\n",
       "<p>5 rows × 25 columns</p>\n",
       "</div>"
      ],
      "text/plain": [
       "   Unnamed: 0  Index  Highest Charting Position  Number of Times Charted  \\\n",
       "0           0      1                          1                        8   \n",
       "1           1      2                          2                        3   \n",
       "2           2      3                          1                       11   \n",
       "3           3      4                          3                        5   \n",
       "4           4      5                          5                        1   \n",
       "\n",
       "  Week of Highest Charting                          Song Name     Streams  \\\n",
       "0   2021-07-23--2021-07-30                            Beggin'  48,633,449   \n",
       "1   2021-07-23--2021-07-30          STAY (with Justin Bieber)  47,248,719   \n",
       "2   2021-06-25--2021-07-02                           good 4 u  40,162,559   \n",
       "3   2021-07-02--2021-07-09                         Bad Habits  37,799,456   \n",
       "4   2021-07-23--2021-07-30  INDUSTRY BABY (feat. Jack Harlow)  33,948,454   \n",
       "\n",
       "           Artist  Artist Followers                 Song ID  ... Energy  \\\n",
       "0        Måneskin           3377762  3Wrjm47oTz2sjIgck11l5e  ...  0.800   \n",
       "1   The Kid LAROI           2230022  5HCyWlXZPP0y6Gqq8TgA20  ...  0.764   \n",
       "2  Olivia Rodrigo           6266514  4ZtFanR9U6ndgddUvNcjcG  ...  0.664   \n",
       "3      Ed Sheeran          83293380  6PQ88X9TkUIAUIZJHW2upE  ...  0.897   \n",
       "4       Lil Nas X           5473565  27NovPIUIRrOZoCHxABJwK  ...  0.704   \n",
       "\n",
       "  Loudness Speechiness  Acousticness  Liveness    Tempo  Duration (ms)  \\\n",
       "0   -4.808      0.0504        0.1270    0.3590  134.002         211560   \n",
       "1   -5.484      0.0483        0.0383    0.1030  169.928         141806   \n",
       "2   -5.044      0.1540        0.3350    0.0849  166.928         178147   \n",
       "3   -3.712      0.0348        0.0469    0.3640  126.026         231041   \n",
       "4   -7.409      0.0615        0.0203    0.0501  149.995         212000   \n",
       "\n",
       "   Valence  Chord  Normalized_loud  \n",
       "0    0.589      B         0.763187  \n",
       "1    0.478  C#/Db         0.737844  \n",
       "2    0.688      A         0.754339  \n",
       "3    0.591      B         0.804274  \n",
       "4    0.894  D#/Eb         0.665679  \n",
       "\n",
       "[5 rows x 25 columns]"
      ]
     },
     "metadata": {},
     "output_type": "display_data"
    },
    {
     "name": "stdout",
     "output_type": "stream",
     "text": [
      "<class 'pandas.core.frame.DataFrame'>\n",
      "RangeIndex: 1375 entries, 0 to 1374\n",
      "Data columns (total 25 columns):\n",
      " #   Column                     Non-Null Count  Dtype  \n",
      "---  ------                     --------------  -----  \n",
      " 0   Unnamed: 0                 1375 non-null   int64  \n",
      " 1   Index                      1375 non-null   int64  \n",
      " 2   Highest Charting Position  1375 non-null   int64  \n",
      " 3   Number of Times Charted    1375 non-null   int64  \n",
      " 4   Week of Highest Charting   1375 non-null   object \n",
      " 5   Song Name                  1375 non-null   object \n",
      " 6   Streams                    1375 non-null   object \n",
      " 7   Artist                     1375 non-null   object \n",
      " 8   Artist Followers           1375 non-null   int64  \n",
      " 9   Song ID                    1375 non-null   object \n",
      " 10  Genre                      1375 non-null   object \n",
      " 11  Release Date               1375 non-null   object \n",
      " 12  Weeks Charted              1375 non-null   object \n",
      " 13  Popularity                 1375 non-null   int64  \n",
      " 14  Danceability               1375 non-null   float64\n",
      " 15  Energy                     1375 non-null   float64\n",
      " 16  Loudness                   1375 non-null   float64\n",
      " 17  Speechiness                1375 non-null   float64\n",
      " 18  Acousticness               1375 non-null   float64\n",
      " 19  Liveness                   1375 non-null   float64\n",
      " 20  Tempo                      1375 non-null   float64\n",
      " 21  Duration (ms)              1375 non-null   int64  \n",
      " 22  Valence                    1375 non-null   float64\n",
      " 23  Chord                      1375 non-null   object \n",
      " 24  Normalized_loud            1375 non-null   float64\n",
      "dtypes: float64(9), int64(7), object(9)\n",
      "memory usage: 268.7+ KB\n"
     ]
    },
    {
     "data": {
      "text/plain": [
       "None"
      ]
     },
     "metadata": {},
     "output_type": "display_data"
    }
   ],
   "source": [
    "import pandas as pd\n",
    "import numpy as np\n",
    "import matplotlib.pyplot as plt\n",
    "df = pd.read_csv(\"pop_input.csv\")\n",
    "display(df.head())\n",
    "display(df.info())"
   ]
  },
  {
   "cell_type": "code",
   "execution_count": 52,
   "id": "3f5e154c",
   "metadata": {},
   "outputs": [
    {
     "name": "stdout",
     "output_type": "stream",
     "text": [
      "[[ 3377762]\n",
      " [ 2230022]\n",
      " [ 6266514]\n",
      " ...\n",
      " [22698747]\n",
      " [  208630]\n",
      " [42227614]]\n",
      "[[100]\n",
      " [ 99]\n",
      " [ 99]\n",
      " ...\n",
      " [ 81]\n",
      " [ 60]\n",
      " [ 70]]\n"
     ]
    }
   ],
   "source": [
    "from sklearn.model_selection import KFold # import k-fold validation\n",
    "from sklearn.model_selection import train_test_split\n",
    "from sklearn.linear_model import LinearRegression\n",
    "from sklearn import metrics\n",
    "from sklearn.preprocessing import Normalizer\n",
    "\n",
    "X = np.c_[df['Artist Followers']]#df['Highest Charting Position']df['Number of Times Charted']\n",
    "y = np.c_[df['Popularity']]\n",
    "\n",
    "\n",
    "X_train, X_test, y_train, y_test = train_test_split(X, y)\n",
    "\n",
    "# instantiate a simple linear regression model \n",
    "linreg = LinearRegression()\n",
    "\n",
    "# fit the model to the training data (learn the coefficients)\n",
    "linreg.fit(X_train, y_train)\n",
    "print(X)\n",
    "print(y)"
   ]
  },
  {
   "cell_type": "code",
   "execution_count": 53,
   "id": "1a11ffbd",
   "metadata": {},
   "outputs": [
    {
     "name": "stdout",
     "output_type": "stream",
     "text": [
      "R-squared score (training): 0.007\n",
      "R-squared score (test): 0.001\n",
      "RMSE: 13.365\n",
      "(1375, 2) \n",
      " (1375, 1)\n"
     ]
    }
   ],
   "source": [
    "# train data R2\n",
    "print('R-squared score (training): {:.3f}'.format(linreg.score(X_train, y_train)))\n",
    "# test data R2\n",
    "print('R-squared score (test): {:.3f}'.format(linreg.score(X_test, y_test)))\n",
    "\n",
    "# make predictions on the testing set and print RMSE\n",
    "y_pred = linreg.predict(X_test)\n",
    "print('RMSE: {:.3f}'.format(np.sqrt(metrics.mean_squared_error(y_test, y_pred))))\n",
    "\n",
    "X_b = np.c_[np.ones((1375, 1)), X]  # add x0 = 1 to each data tuple\n",
    "y_b = y.reshape(1375, 1)\n",
    "\n",
    "transformer = Normalizer().fit(X_b)\n",
    "X_b = transformer.transform(X_b)\n",
    "transformer = Normalizer().fit(y_b)\n",
    "y_b = transformer.transform(y_b)\n",
    "\n",
    "print(X_b.shape, '\\n', y_b.shape)"
   ]
  },
  {
   "cell_type": "code",
   "execution_count": 54,
   "id": "c5fb800a",
   "metadata": {},
   "outputs": [
    {
     "data": {
      "text/plain": [
       "array([[39786.81024754],\n",
       "       [   69.04474766]])"
      ]
     },
     "execution_count": 54,
     "metadata": {},
     "output_type": "execute_result"
    }
   ],
   "source": [
    "theta_best = np.linalg.inv(X_b.T.dot(X_b)).dot(X_b.T).dot(y)\n",
    "theta_best"
   ]
  },
  {
   "cell_type": "code",
   "execution_count": 57,
   "id": "0ac85edf",
   "metadata": {},
   "outputs": [
    {
     "name": "stdout",
     "output_type": "stream",
     "text": [
      "initial theta: \n",
      " [[-3.55188261]\n",
      " [ 0.05947732]] (2, 1)\n"
     ]
    }
   ],
   "source": [
    "# learning rate\n",
    "alpha = 0.001\n",
    "\n",
    "# number of iterations\n",
    "n_iteration = 100\n",
    "\n",
    "# the number of data points\n",
    "n = 100\n",
    "\n",
    "# random initialization to theta. \n",
    "# Return samples (2 values for theta0 for x0 and theta1 for x1) \n",
    "# from the “standard normal” distribution.\n",
    "theta = np.random.randn(2, 1)\n",
    "\n",
    "print('initial theta: \\n', theta, theta.shape)"
   ]
  },
  {
   "cell_type": "code",
   "execution_count": 58,
   "id": "b03243ad",
   "metadata": {},
   "outputs": [
    {
     "name": "stdout",
     "output_type": "stream",
     "text": [
      "best theta: \n",
      " [[-3.55188152]\n",
      " [ 0.74919694]]\n"
     ]
    }
   ],
   "source": [
    "# the process of gradient descent\n",
    "for iteration in range(n_iteration):\n",
    "    gradient = (1/n) * X_b.T.dot(X_b.dot(theta) - y_b)\n",
    "    theta = theta - alpha*gradient\n",
    "    \n",
    "    \n",
    "print('best theta: \\n', theta)\n",
    "\n",
    "# we will need to tune with learning rate alpha and # of iterations\n",
    "# to find out the optimal theta value"
   ]
  },
  {
   "cell_type": "code",
   "execution_count": 59,
   "id": "0c757a48",
   "metadata": {},
   "outputs": [],
   "source": [
    "#Linear regression without regularization"
   ]
  },
  {
   "cell_type": "code",
   "execution_count": 60,
   "id": "688a195e",
   "metadata": {},
   "outputs": [
    {
     "name": "stdout",
     "output_type": "stream",
     "text": [
      "Popularity Dataset\n",
      "R-squared score (training): 0.004\n",
      "R-squared score (test): 0.011\n",
      "RMSE: 16.489\n",
      "linear model intercept: [68.42242105]\n",
      "linear model coeff:\n",
      "[[5.90665711e-08]]\n",
      "Number of non-zero features: 1\n"
     ]
    }
   ],
   "source": [
    "X_train, X_test, y_train, y_test = train_test_split(X, y, random_state=0)\n",
    "linreg = LinearRegression().fit(X_train, y_train)\n",
    "\n",
    "print('Popularity Dataset')\n",
    "print('R-squared score (training): {:.3f}'\n",
    "     .format(linreg.score(X_train, y_train)))\n",
    "print('R-squared score (test): {:.3f}'\n",
    "     .format(linreg.score(X_test, y_test)))\n",
    "\n",
    "# make predictions on the testing set\n",
    "y_pred = linreg.predict(X_test)\n",
    "print('RMSE: {:.3f}'.format(np.sqrt(metrics.mean_squared_error(y_test, y_pred))))\n",
    "\n",
    "print('linear model intercept: {}'.format(linreg.intercept_))\n",
    "print('linear model coeff:\\n{}'.format(linreg.coef_))\n",
    "\n",
    "print('Number of non-zero features: {}'.format(np.sum(linreg.coef_ != 0)))"
   ]
  },
  {
   "cell_type": "code",
   "execution_count": 61,
   "id": "2ea2d0f9",
   "metadata": {},
   "outputs": [
    {
     "name": "stdout",
     "output_type": "stream",
     "text": [
      "Cancer Dataset\n",
      "R-squared score (training): 0.004\n",
      "R-squared score (test): 0.011\n",
      "RMSE: 16.489\n",
      "ridge regression linear model intercept: [68.42242105]\n",
      "ridge regression linear model coeff:\n",
      "[[5.90665711e-08]]\n",
      "Number of non-zero features: 1\n"
     ]
    }
   ],
   "source": [
    "from sklearn.linear_model import Ridge\n",
    "X_train, X_test, y_train, y_test = train_test_split(X, y, random_state=0)\n",
    "\n",
    "linridge = Ridge(alpha=20.0).fit(X_train, y_train)\n",
    "\n",
    "print('Cancer Dataset')\n",
    "\n",
    "print('R-squared score (training): {:.3f}'\n",
    "     .format(linridge.score(X_train, y_train)))\n",
    "print('R-squared score (test): {:.3f}'\n",
    "     .format(linridge.score(X_test, y_test)))\n",
    "\n",
    "# make predictions on the testing set\n",
    "y_pred = linreg.predict(X_test)\n",
    "print('RMSE: {:.3f}'.format(np.sqrt(metrics.mean_squared_error(y_test, y_pred))))\n",
    "\n",
    "print('ridge regression linear model intercept: {}'.format(linridge.intercept_))\n",
    "print('ridge regression linear model coeff:\\n{}'.format(linridge.coef_))\n",
    "\n",
    "print('Number of non-zero features: {}'.format(np.sum(linridge.coef_ != 0)))"
   ]
  },
  {
   "cell_type": "code",
   "execution_count": 62,
   "id": "cfd22e2d",
   "metadata": {},
   "outputs": [
    {
     "name": "stdout",
     "output_type": "stream",
     "text": [
      "Cancer Dataset\n",
      "R-squared score (training): 0.004\n",
      "R-squared score (test): 0.008\n",
      "RMSE: 16.489\n",
      "ridge regression linear model intercept: [68.70878161]\n",
      "ridge regression linear model coeff:\n",
      "[[3.23053761]]\n",
      "Number of non-zero features: 1\n"
     ]
    }
   ],
   "source": [
    "from sklearn.preprocessing import MinMaxScaler\n",
    "scaler = MinMaxScaler()\n",
    "\n",
    "from sklearn.linear_model import Ridge\n",
    "X_train, X_test, y_train, y_test = train_test_split(X, y,\n",
    "                                                   random_state = 0)\n",
    "\n",
    "X_train_scaled = scaler.fit_transform(X_train)\n",
    "X_test_scaled = scaler.transform(X_test)\n",
    "\n",
    "linridge = Ridge(alpha=20.0).fit(X_train_scaled, y_train)\n",
    "\n",
    "print('Cancer Dataset')\n",
    "print('R-squared score (training): {:.3f}'\n",
    "     .format(linridge.score(X_train_scaled, y_train)))\n",
    "print('R-squared score (test): {:.3f}'\n",
    "     .format(linridge.score(X_test_scaled, y_test)))\n",
    "\n",
    "# make predictions on the testing set\n",
    "y_pred = linreg.predict(X_test)\n",
    "print('RMSE: {:.3f}'.format(np.sqrt(metrics.mean_squared_error(y_test, y_pred))))\n",
    "\n",
    "print('ridge regression linear model intercept: {}'.format(linridge.intercept_))\n",
    "print('ridge regression linear model coeff:\\n{}'.format(linridge.coef_))\n",
    "\n",
    "print('Number of non-zero features: {}'.format(np.sum(linridge.coef_ != 0)))"
   ]
  },
  {
   "cell_type": "code",
   "execution_count": 63,
   "id": "52177dff",
   "metadata": {},
   "outputs": [
    {
     "name": "stdout",
     "output_type": "stream",
     "text": [
      "Ridge regression: effect of alpha regularization parameter\n",
      "\n",
      "Alpha = 0.00\n",
      "num abs(coeff) > 1.0: 1, r-squared training: 0.00, r-squared test: 0.01\n",
      "\n",
      "Alpha = 0.01\n",
      "num abs(coeff) > 1.0: 1, r-squared training: 0.00, r-squared test: 0.01\n",
      "\n",
      "Alpha = 0.10\n",
      "num abs(coeff) > 1.0: 1, r-squared training: 0.00, r-squared test: 0.01\n",
      "\n",
      "Alpha = 0.50\n",
      "num abs(coeff) > 1.0: 1, r-squared training: 0.00, r-squared test: 0.01\n",
      "\n",
      "Alpha = 1.00\n",
      "num abs(coeff) > 1.0: 1, r-squared training: 0.00, r-squared test: 0.01\n",
      "\n",
      "Alpha = 10.00\n",
      "num abs(coeff) > 1.0: 1, r-squared training: 0.00, r-squared test: 0.01\n",
      "\n",
      "Alpha = 20.00\n",
      "num abs(coeff) > 1.0: 1, r-squared training: 0.00, r-squared test: 0.01\n",
      "\n",
      "Alpha = 50.00\n",
      "num abs(coeff) > 1.0: 1, r-squared training: 0.00, r-squared test: 0.00\n",
      "\n",
      "Alpha = 100.00\n",
      "num abs(coeff) > 1.0: 1, r-squared training: 0.00, r-squared test: 0.00\n",
      "\n",
      "Alpha = 1000.00\n",
      "num abs(coeff) > 1.0: 0, r-squared training: 0.00, r-squared test: -0.00\n",
      "\n"
     ]
    }
   ],
   "source": [
    "print('Ridge regression: effect of alpha regularization parameter\\n')\n",
    "for this_alpha in [0, 0.01, 0.1, 0.5, 1, 10, 20, 50, 100, 1000]:\n",
    "    linridge = Ridge(alpha = this_alpha).fit(X_train_scaled, y_train)\n",
    "    r2_train = linridge.score(X_train_scaled, y_train)\n",
    "    r2_test = linridge.score(X_test_scaled, y_test)\n",
    "    num_coeff_bigger = np.sum(abs(linridge.coef_) > 1.0)\n",
    "    print('Alpha = {:.2f}\\nnum abs(coeff) > 1.0: {}, \\\n",
    "r-squared training: {:.2f}, r-squared test: {:.2f}\\n'\n",
    "         .format(this_alpha, num_coeff_bigger, r2_train, r2_test))"
   ]
  },
  {
   "cell_type": "code",
   "execution_count": 64,
   "id": "3efd191b",
   "metadata": {},
   "outputs": [
    {
     "name": "stdout",
     "output_type": "stream",
     "text": [
      "Lasso regression: effect of alpha regularization\n",
      "parameter on number of features kept in final model\n",
      "\n",
      "Alpha = 0.00\n",
      "Features kept: 1, r-squared training: 0.00, r-squared test: 0.01\n",
      "\n",
      "Alpha = 0.50\n",
      "Features kept: 0, r-squared training: 0.00, r-squared test: -0.00\n",
      "\n",
      "Alpha = 1.00\n",
      "Features kept: 0, r-squared training: 0.00, r-squared test: -0.00\n",
      "\n",
      "Alpha = 2.00\n",
      "Features kept: 0, r-squared training: 0.00, r-squared test: -0.00\n",
      "\n",
      "Alpha = 3.00\n",
      "Features kept: 0, r-squared training: 0.00, r-squared test: -0.00\n",
      "\n",
      "Alpha = 5.00\n",
      "Features kept: 0, r-squared training: 0.00, r-squared test: -0.00\n",
      "\n",
      "Alpha = 10.00\n",
      "Features kept: 0, r-squared training: 0.00, r-squared test: -0.00\n",
      "\n",
      "Alpha = 20.00\n",
      "Features kept: 0, r-squared training: 0.00, r-squared test: -0.00\n",
      "\n",
      "Alpha = 50.00\n",
      "Features kept: 0, r-squared training: 0.00, r-squared test: -0.00\n",
      "\n"
     ]
    }
   ],
   "source": [
    "from sklearn.linear_model import Lasso\n",
    "print('Lasso regression: effect of alpha regularization\\n\\\n",
    "parameter on number of features kept in final model\\n')\n",
    "\n",
    "for alpha in [0.001, 0.5, 1, 2, 3, 5, 10, 20, 50]:\n",
    "    linlasso = Lasso(alpha, max_iter = 10000).fit(X_train_scaled, y_train)\n",
    "    r2_train = linlasso.score(X_train_scaled, y_train)\n",
    "    r2_test = linlasso.score(X_test_scaled, y_test)\n",
    "    \n",
    "    print('Alpha = {:.2f}\\nFeatures kept: {}, r-squared training: {:.2f}, \\\n",
    "r-squared test: {:.2f}\\n'\n",
    "         .format(alpha, np.sum(linlasso.coef_ != 0), r2_train, r2_test))"
   ]
  },
  {
   "cell_type": "code",
   "execution_count": 65,
   "id": "0dada56a",
   "metadata": {},
   "outputs": [
    {
     "data": {
      "image/png": "[encoded data removed]",
      "text/plain": [
       "<Figure size 360x216 with 1 Axes>"
      ]
     },
     "metadata": {
      "needs_background": "light"
     },
     "output_type": "display_data"
    }
   ],
   "source": [
    "from sklearn.model_selection import learning_curve\n",
    "    \n",
    "# evaluate the training and testing and retrieve the information of model performance. \n",
    "\n",
    "train_sizes = np.linspace(0.2, 0.8, 50)\n",
    "\n",
    "train_sizes, train_mse, test_mse = learning_curve(linreg, X, y, \n",
    "                                    train_sizes = train_sizes, \n",
    "                                    scoring='neg_root_mean_squared_error', \n",
    "                                    cv=3, shuffle=True)\n",
    "\n",
    "train_scores = np.sqrt(np.abs(train_mse))\n",
    "test_scores = np.sqrt(np.abs(test_mse))\n",
    "\n",
    "#print(train_scores)\n",
    "#print(test_scores)\n",
    "\n",
    "train_scores_mean = np.mean(train_scores, axis=1)\n",
    "test_scores_mean = np.mean(test_scores, axis=1)\n",
    "\n",
    "# Plot learning curve\n",
    "fig, ax = plt.subplots(1, 1, figsize=(5, 3))\n",
    "    \n",
    "ax.set_title('A learning curve')\n",
    "ax.set_xlabel(\"Training examples\")\n",
    "ax.set_ylabel(\"Score (RMSE)\")\n",
    "ax.grid()\n",
    "\n",
    "ax.plot(train_sizes, train_scores_mean, 'o-', color=\"r\", label=\"Training score\")\n",
    "ax.plot(train_sizes, test_scores_mean, 'o-', color=\"g\", label=\"Cross-validation score\")\n",
    "ax.legend(loc=\"best\")\n",
    "\n",
    "plt.show()"
   ]
  },
  {
   "cell_type": "code",
   "execution_count": 69,
   "id": "1172cd86",
   "metadata": {},
   "outputs": [],
   "source": [
    "def plot_class_regions_for_classifier_subplot(clf, X, y, X_test, y_test, title, subplot, target_names = None, plot_decision_regions = True):\n",
    "\n",
    "    numClasses = np.amax(y) + 1\n",
    "    color_list_light = ['#FFFFAA', '#EFEFEF', '#AAFFAA', '#AAAAFF']\n",
    "    color_list_bold = ['#EEEE00', '#000000', '#00CC00', '#0000CC']\n",
    "    cmap_light = ListedColormap(color_list_light[0:numClasses])\n",
    "    cmap_bold  = ListedColormap(color_list_bold[0:numClasses])\n",
    "\n",
    "    h = 0.03\n",
    "    k = 0.5\n",
    "    x_plot_adjust = 0.1\n",
    "    y_plot_adjust = 0.1\n",
    "    plot_symbol_size = 50\n",
    "\n",
    "    x_min = X[:, 0].min()\n",
    "    x_max = X[:, 0].max()\n",
    "    y_min = X[:, 1].min()\n",
    "    y_max = X[:, 1].max()\n",
    "    x2, y2 = np.meshgrid(np.arange(x_min-k, x_max+k, h), np.arange(y_min-k, y_max+k, h))\n",
    "\n",
    "    P = clf.predict(np.c_[x2.ravel(), y2.ravel()])\n",
    "    P = P.reshape(x2.shape)\n",
    "\n",
    "    if plot_decision_regions:\n",
    "        subplot.contourf(x2, y2, P, cmap=cmap_light, alpha = 0.8)\n",
    "\n",
    "    subplot.scatter(X[:, 0], X[:, 1], c=y, cmap=cmap_bold, s=plot_symbol_size, edgecolor = 'black')\n",
    "    subplot.set_xlim(x_min - x_plot_adjust, x_max + x_plot_adjust)\n",
    "    subplot.set_ylim(y_min - y_plot_adjust, y_max + y_plot_adjust)\n",
    "\n",
    "    if (X_test is not None):\n",
    "        subplot.scatter(X_test[:, 0], X_test[:, 1], c=y_test, cmap=cmap_bold, s=plot_symbol_size, marker='^', edgecolor = 'black')\n",
    "        train_score = clf.score(X, y)\n",
    "        test_score  = clf.score(X_test, y_test)\n",
    "        title = title + \"\\nTrain score = {:.2f}, Test score = {:.2f}\".format(train_score, test_score)\n",
    "\n",
    "    subplot.set_title(title)\n",
    "\n",
    "    if (target_names is not None):\n",
    "        legend_handles = []\n",
    "        for i in range(0, len(target_names)):\n",
    "            patch = mpatches.Patch(color=color_list_bold[i], label=target_names[i])\n",
    "            legend_handles.append(patch)\n",
    "        subplot.legend(loc=0, handles=legend_handles)\n",
    "\n",
    "\n",
    "def plot_class_regions_for_classifier(clf, X, y, X_test=None, y_test=None, title=None, target_names = None, plot_decision_regions = True):\n",
    "\n",
    "    numClasses = np.amax(y) + 1\n",
    "    color_list_light = ['#FFFFAA', '#EFEFEF', '#AAFFAA', '#AAAAFF']\n",
    "    color_list_bold = ['#EEEE00', '#000000', '#00CC00', '#0000CC']\n",
    "    cmap_light = ListedColormap(color_list_light[0:numClasses])\n",
    "    cmap_bold  = ListedColormap(color_list_bold[0:numClasses])\n",
    "\n",
    "    h = 0.03\n",
    "    k = 0.5\n",
    "    x_plot_adjust = 0.1\n",
    "    y_plot_adjust = 0.1\n",
    "    plot_symbol_size = 50\n",
    "\n",
    "    x_min = X[:, 0].min()\n",
    "    x_max = X[:, 0].max()\n",
    "    y_min = X[:, 0].min()\n",
    "    y_max = X[:, 0].max()\n",
    "    x2, y2 = np.meshgrid(np.arange(x_min-k, x_max+k, h), np.arange(y_min-k, y_max+k, h))\n",
    "\n",
    "    P = clf.predict(np.c_[x2.ravel(), y2.ravel()])\n",
    "    P = P.reshape(x2.shape)\n",
    "    plt.figure()\n",
    "    if plot_decision_regions:\n",
    "        plt.contourf(x2, y2, P, cmap=cmap_light, alpha = 0.8)\n",
    "\n",
    "    plt.scatter(X[:, 0], X[:, 1], c=y, cmap=cmap_bold, s=plot_symbol_size, edgecolor = 'black')\n",
    "    plt.xlim(x_min - x_plot_adjust, x_max + x_plot_adjust)\n",
    "    plt.ylim(y_min - y_plot_adjust, y_max + y_plot_adjust)\n",
    "\n",
    "    if (X_test is not None):\n",
    "        plt.scatter(X_test[:, 0], X_test[:, 1], c=y_test, cmap=cmap_bold, s=plot_symbol_size, marker='^', edgecolor = 'black')\n",
    "        train_score = clf.score(X, y)\n",
    "        test_score  = clf.score(X_test, y_test)\n",
    "        title = title + \"\\nTrain score = {:.2f}, Test score = {:.2f}\".format(train_score, test_score)\n",
    "\n",
    "    if (target_names is not None):\n",
    "        legend_handles = []\n",
    "        for i in range(0, len(target_names)):\n",
    "            patch = mpatches.Patch(color=color_list_bold[i], label=target_names[i])\n",
    "            legend_handles.append(patch)\n",
    "        plt.legend(loc=0, handles=legend_handles)\n",
    "\n",
    "    if (title is not None):\n",
    "        plt.title(title)\n",
    "    plt.show()\n",
    "    "
   ]
  },
  {
   "cell_type": "code",
   "execution_count": 79,
   "id": "a3b48894",
   "metadata": {},
   "outputs": [],
   "source": [
    "from sklearn.neural_network import MLPClassifier\n",
    "from matplotlib.colors import ListedColormap\n",
    "for i in [10,20,50]:\n",
    "    \n",
    "    #from adspy_shared_utilities import plot_class_regions_for_classifier\n",
    "    X_train, X_test, y_train, y_test = train_test_split(X, y, random_state=0)\n",
    "    # model training with two hidden layers\n",
    "    nnclf = MLPClassifier(hidden_layer_sizes = [i, i], solver='sgd',\n",
    "                        random_state = 0).fit(X_train, y_train.ravel())\n",
    "\n",
    "    "
   ]
  },
  {
   "cell_type": "code",
   "execution_count": 78,
   "id": "f08e8a31",
   "metadata": {},
   "outputs": [
    {
     "name": "stdout",
     "output_type": "stream",
     "text": [
      "(1031, 1)\n",
      "(1031, 1)\n"
     ]
    }
   ],
   "source": [
    "print(X_train.shape)\n",
    "print(y_train.shape)"
   ]
  },
  {
   "cell_type": "code",
   "execution_count": 77,
   "id": "fd6b4ded",
   "metadata": {},
   "outputs": [
    {
     "name": "stdout",
     "output_type": "stream",
     "text": [
      "(344, 1)\n",
      "(344, 1)\n"
     ]
    }
   ],
   "source": [
    "print(X_test.shape)\n",
    "print(y_test.shape)"
   ]
  },
  {
   "cell_type": "code",
   "execution_count": 80,
   "id": "5ef6bd9f",
   "metadata": {},
   "outputs": [
    {
     "ename": "MemoryError",
     "evalue": "Unable to allocate 20.7 GiB for an array with shape (2777763367,) and data type float64",
     "output_type": "error",
     "traceback": [
      "\u001b[1;31m---------------------------------------------------------------------------\u001b[0m",
      "\u001b[1;31mMemoryError\u001b[0m                               Traceback (most recent call last)",
      "\u001b[1;32m~\\AppData\\Local\\Temp/ipykernel_5676/178543699.py\u001b[0m in \u001b[0;36m<module>\u001b[1;34m\u001b[0m\n\u001b[1;32m----> 1\u001b[1;33m plot_class_regions_for_classifier(nnclf, X_train, y_train, X_test, y_test,\n\u001b[0m\u001b[0;32m      2\u001b[0m                                     'Dataset 1: Neural net classifier, 2 layers, ' + str(i) + '/' + str(i) + 'units')\n",
      "\u001b[1;32m~\\AppData\\Local\\Temp/ipykernel_5676/1390041096.py\u001b[0m in \u001b[0;36mplot_class_regions_for_classifier\u001b[1;34m(clf, X, y, X_test, y_test, title, target_names, plot_decision_regions)\u001b[0m\n\u001b[0;32m     63\u001b[0m     \u001b[0my_min\u001b[0m \u001b[1;33m=\u001b[0m \u001b[0mX\u001b[0m\u001b[1;33m[\u001b[0m\u001b[1;33m:\u001b[0m\u001b[1;33m,\u001b[0m \u001b[1;36m0\u001b[0m\u001b[1;33m]\u001b[0m\u001b[1;33m.\u001b[0m\u001b[0mmin\u001b[0m\u001b[1;33m(\u001b[0m\u001b[1;33m)\u001b[0m\u001b[1;33m\u001b[0m\u001b[1;33m\u001b[0m\u001b[0m\n\u001b[0;32m     64\u001b[0m     \u001b[0my_max\u001b[0m \u001b[1;33m=\u001b[0m \u001b[0mX\u001b[0m\u001b[1;33m[\u001b[0m\u001b[1;33m:\u001b[0m\u001b[1;33m,\u001b[0m \u001b[1;36m0\u001b[0m\u001b[1;33m]\u001b[0m\u001b[1;33m.\u001b[0m\u001b[0mmax\u001b[0m\u001b[1;33m(\u001b[0m\u001b[1;33m)\u001b[0m\u001b[1;33m\u001b[0m\u001b[1;33m\u001b[0m\u001b[0m\n\u001b[1;32m---> 65\u001b[1;33m     \u001b[0mx2\u001b[0m\u001b[1;33m,\u001b[0m \u001b[0my2\u001b[0m \u001b[1;33m=\u001b[0m \u001b[0mnp\u001b[0m\u001b[1;33m.\u001b[0m\u001b[0mmeshgrid\u001b[0m\u001b[1;33m(\u001b[0m\u001b[0mnp\u001b[0m\u001b[1;33m.\u001b[0m\u001b[0marange\u001b[0m\u001b[1;33m(\u001b[0m\u001b[0mx_min\u001b[0m\u001b[1;33m-\u001b[0m\u001b[0mk\u001b[0m\u001b[1;33m,\u001b[0m \u001b[0mx_max\u001b[0m\u001b[1;33m+\u001b[0m\u001b[0mk\u001b[0m\u001b[1;33m,\u001b[0m \u001b[0mh\u001b[0m\u001b[1;33m)\u001b[0m\u001b[1;33m,\u001b[0m \u001b[0mnp\u001b[0m\u001b[1;33m.\u001b[0m\u001b[0marange\u001b[0m\u001b[1;33m(\u001b[0m\u001b[0my_min\u001b[0m\u001b[1;33m-\u001b[0m\u001b[0mk\u001b[0m\u001b[1;33m,\u001b[0m \u001b[0my_max\u001b[0m\u001b[1;33m+\u001b[0m\u001b[0mk\u001b[0m\u001b[1;33m,\u001b[0m \u001b[0mh\u001b[0m\u001b[1;33m)\u001b[0m\u001b[1;33m)\u001b[0m\u001b[1;33m\u001b[0m\u001b[1;33m\u001b[0m\u001b[0m\n\u001b[0m\u001b[0;32m     66\u001b[0m \u001b[1;33m\u001b[0m\u001b[0m\n\u001b[0;32m     67\u001b[0m     \u001b[0mP\u001b[0m \u001b[1;33m=\u001b[0m \u001b[0mclf\u001b[0m\u001b[1;33m.\u001b[0m\u001b[0mpredict\u001b[0m\u001b[1;33m(\u001b[0m\u001b[0mnp\u001b[0m\u001b[1;33m.\u001b[0m\u001b[0mc_\u001b[0m\u001b[1;33m[\u001b[0m\u001b[0mx2\u001b[0m\u001b[1;33m.\u001b[0m\u001b[0mravel\u001b[0m\u001b[1;33m(\u001b[0m\u001b[1;33m)\u001b[0m\u001b[1;33m,\u001b[0m \u001b[0my2\u001b[0m\u001b[1;33m.\u001b[0m\u001b[0mravel\u001b[0m\u001b[1;33m(\u001b[0m\u001b[1;33m)\u001b[0m\u001b[1;33m]\u001b[0m\u001b[1;33m)\u001b[0m\u001b[1;33m\u001b[0m\u001b[1;33m\u001b[0m\u001b[0m\n",
      "\u001b[1;31mMemoryError\u001b[0m: Unable to allocate 20.7 GiB for an array with shape (2777763367,) and data type float64"
     ]
    }
   ],
   "source": [
    "plot_class_regions_for_classifier(nnclf, X_train, y_train, X_test, y_test,\n",
    "                                    'Dataset 1: Neural net classifier, 2 layers, ' + str(i) + '/' + str(i) + 'units')"
   ]
  }
 ],
 "metadata": {
  "kernelspec": {
   "display_name": "Python 3 (ipykernel)",
   "language": "python",
   "name": "python3"
  },
  "language_info": {
   "codemirror_mode": {
    "name": "ipython",
    "version": 3
   },
   "file_extension": ".py",
   "mimetype": "text/x-python",
   "name": "python",
   "nbconvert_exporter": "python",
   "pygments_lexer": "ipython3",
   "version": "3.9.7"
  }
 },
 "nbformat": 4,
 "nbformat_minor": 5
}
