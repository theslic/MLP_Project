{
 "cells": [
  {
   "cell_type": "code",
   "execution_count": 3,
   "id": "b351a540",
   "metadata": {
    "scrolled": true
   },
   "outputs": [
    {
     "name": "stdout",
     "output_type": "stream",
     "text": [
      "   Index  Highest Charting Position  Number of Times Charted  \\\n",
      "0      1                          1                        8   \n",
      "1      2                          2                        3   \n",
      "2      3                          1                       11   \n",
      "3      4                          3                        5   \n",
      "4      5                          5                        1   \n",
      "\n",
      "  Week of Highest Charting                          Song Name     Streams  \\\n",
      "0   2021-07-23--2021-07-30                            Beggin'  48,633,449   \n",
      "1   2021-07-23--2021-07-30          STAY (with Justin Bieber)  47,248,719   \n",
      "2   2021-06-25--2021-07-02                           good 4 u  40,162,559   \n",
      "3   2021-07-02--2021-07-09                         Bad Habits  37,799,456   \n",
      "4   2021-07-23--2021-07-30  INDUSTRY BABY (feat. Jack Harlow)  33,948,454   \n",
      "\n",
      "           Artist Artist Followers                 Song ID  \\\n",
      "0        Måneskin          3377762  3Wrjm47oTz2sjIgck11l5e   \n",
      "1   The Kid LAROI          2230022  5HCyWlXZPP0y6Gqq8TgA20   \n",
      "2  Olivia Rodrigo          6266514  4ZtFanR9U6ndgddUvNcjcG   \n",
      "3      Ed Sheeran         83293380  6PQ88X9TkUIAUIZJHW2upE   \n",
      "4       Lil Nas X          5473565  27NovPIUIRrOZoCHxABJwK   \n",
      "\n",
      "                                    Genre  ... Danceability Energy Loudness  \\\n",
      "0  ['indie rock italiano', 'italian pop']  ...        0.714    0.8   -4.808   \n",
      "1                  ['australian hip hop']  ...        0.591  0.764   -5.484   \n",
      "2                                 ['pop']  ...        0.563  0.664   -5.044   \n",
      "3                       ['pop', 'uk pop']  ...        0.808  0.897   -3.712   \n",
      "4           ['lgbtq+ hip hop', 'pop rap']  ...        0.736  0.704   -7.409   \n",
      "\n",
      "  Speechiness Acousticness Liveness    Tempo Duration (ms) Valence  Chord  \n",
      "0      0.0504        0.127    0.359  134.002        211560   0.589      B  \n",
      "1      0.0483       0.0383    0.103  169.928        141806   0.478  C#/Db  \n",
      "2       0.154        0.335   0.0849  166.928        178147   0.688      A  \n",
      "3      0.0348       0.0469    0.364  126.026        231041   0.591      B  \n",
      "4      0.0615       0.0203   0.0501  149.995        212000   0.894  D#/Eb  \n",
      "\n",
      "[5 rows x 23 columns]\n",
      "      Index  Highest Charting Position  Number of Times Charted  \\\n",
      "1551   1552                        195                        1   \n",
      "1552   1553                        196                        1   \n",
      "1553   1554                        197                        1   \n",
      "1554   1555                        198                        1   \n",
      "1555   1556                        199                        1   \n",
      "\n",
      "     Week of Highest Charting                           Song Name    Streams  \\\n",
      "1551   2019-12-27--2020-01-03                           New Rules  4,630,675   \n",
      "1552   2019-12-27--2020-01-03                  Cheirosa - Ao Vivo  4,623,030   \n",
      "1553   2019-12-27--2020-01-03           Havana (feat. Young Thug)  4,620,876   \n",
      "1554   2019-12-27--2020-01-03          Surtada - Remix Brega Funk  4,607,385   \n",
      "1555   2019-12-27--2020-01-03  Lover (Remix) [feat. Shawn Mendes]  4,595,450   \n",
      "\n",
      "                             Artist Artist Followers                 Song ID  \\\n",
      "1551                       Dua Lipa         27167675  2ekn2ttSfGqwhhate0LSR0   \n",
      "1552                 Jorge & Mateus         15019109  2PWjKmjyTZeDpmOUa3a5da   \n",
      "1553                 Camila Cabello         22698747  1rfofaqEpACxVEHIZBJe6W   \n",
      "1554  Dadá Boladão, Tati Zaqui, OIK           208630  5F8ffc8KWKNawllr5WsW0r   \n",
      "1555                   Taylor Swift         42227614  3i9UVldZOE0aD0JnyfAZZ0   \n",
      "\n",
      "                                                  Genre  ... Danceability  \\\n",
      "1551                     ['dance pop', 'pop', 'uk pop']  ...        0.762   \n",
      "1552           ['sertanejo', 'sertanejo universitario']  ...        0.528   \n",
      "1553  ['dance pop', 'electropop', 'pop', 'post-teen ...  ...        0.765   \n",
      "1554                     ['brega funk', 'funk carioca']  ...        0.832   \n",
      "1555                           ['pop', 'post-teen pop']  ...        0.448   \n",
      "\n",
      "     Energy Loudness Speechiness Acousticness Liveness    Tempo Duration (ms)  \\\n",
      "1551    0.7   -6.021      0.0694      0.00261    0.153  116.073        209320   \n",
      "1552   0.87   -3.123      0.0851         0.24    0.333   152.37        181930   \n",
      "1553  0.523   -4.333        0.03        0.184    0.132  104.988        217307   \n",
      "1554   0.55   -7.026      0.0587        0.249    0.182  154.064        152784   \n",
      "1555  0.603   -7.176       0.064        0.433   0.0862  205.272        221307   \n",
      "\n",
      "     Valence Chord  \n",
      "1551   0.608     A  \n",
      "1552   0.714     B  \n",
      "1553   0.394     D  \n",
      "1554   0.881     F  \n",
      "1555   0.422     G  \n",
      "\n",
      "[5 rows x 23 columns]\n",
      "(1556, 23)\n"
     ]
    }
   ],
   "source": [
    "import pandas as pd\n",
    "import numpy as np\n",
    "df = pd.read_csv(\"spotify_dataset.csv\")\n",
    "print(df.head())\n",
    "print(df.tail())\n",
    "print(df.shape)"
   ]
  },
  {
   "cell_type": "code",
   "execution_count": 4,
   "id": "3786c496",
   "metadata": {},
   "outputs": [
    {
     "name": "stdout",
     "output_type": "stream",
     "text": [
      "(1545, 23)\n"
     ]
    }
   ],
   "source": [
    "df.replace(' ', np.nan, inplace=True)\n",
    "df.dropna(inplace=True)\n",
    "print(df.shape)"
   ]
  },
  {
   "cell_type": "code",
   "execution_count": 5,
   "id": "3177d776",
   "metadata": {},
   "outputs": [
    {
     "name": "stdout",
     "output_type": "stream",
     "text": [
      "0       0.763187\n",
      "1       0.737844\n",
      "2       0.754339\n",
      "3       0.804274\n",
      "4       0.665679\n",
      "          ...   \n",
      "1551    0.717713\n",
      "1552    0.826354\n",
      "1553    0.780993\n",
      "1554    0.680037\n",
      "1555    0.674414\n",
      "Name: Normalized_loud, Length: 1545, dtype: float64\n"
     ]
    }
   ],
   "source": [
    "df['Loudness'] = df['Loudness'].astype(float)\n",
    "column='Loudness'\n",
    "df['Normalized_loud'] = (df[column] - df[column].min()) / (df[column].max() - df[column].min())\n",
    "print(df['Normalized_loud'])"
   ]
  },
  {
   "cell_type": "code",
   "execution_count": 6,
   "id": "9b805436",
   "metadata": {
    "scrolled": false
   },
   "outputs": [],
   "source": [
    "df.to_csv('new_spotify')"
   ]
  },
  {
   "cell_type": "code",
   "execution_count": 7,
   "id": "3f8b69f6",
   "metadata": {},
   "outputs": [
    {
     "name": "stdout",
     "output_type": "stream",
     "text": [
      "[ 1. 12.] 1 142\n"
     ]
    },
    {
     "data": {
      "image/png": "[encoded data removed]",
      "text/plain": [
       "<Figure size 432x288 with 1 Axes>"
      ]
     },
     "metadata": {
      "needs_background": "light"
     },
     "output_type": "display_data"
    }
   ],
   "source": [
    "import matplotlib.pyplot as plt\n",
    "from numpy import percentile\n",
    "temp = df['Number of Times Charted']\n",
    "plt.boxplot(temp)\n",
    "quartiles = percentile(temp, [25, 75])\n",
    "data_min, data_max = temp.min(), temp.max()\n",
    "print(quartiles, data_min, data_max)\n",
    "\n",
    "# We can see that the data is heavily skewed. Since there are so many low values\n",
    "# the higher values seem like a lot of outliers"
   ]
  },
  {
   "cell_type": "code",
   "execution_count": 8,
   "id": "54443b1e",
   "metadata": {},
   "outputs": [
    {
     "name": "stdout",
     "output_type": "stream",
     "text": [
      "[ 37. 137.]\n",
      "1 200\n"
     ]
    },
    {
     "data": {
      "image/png": "[encoded data removed]",
      "text/plain": [
       "<Figure size 432x288 with 1 Axes>"
      ]
     },
     "metadata": {
      "needs_background": "light"
     },
     "output_type": "display_data"
    }
   ],
   "source": [
    "plt.boxplot(df['Highest Charting Position'])\n",
    "temp = df['Highest Charting Position']\n",
    "plt.boxplot(temp)\n",
    "quartiles = percentile(temp, [25, 75])\n",
    "data_min, data_max = temp.min(), temp.max()\n",
    "print(quartiles)\n",
    "print(data_min, data_max)\n",
    "\n",
    "# very well balanced"
   ]
  },
  {
   "cell_type": "code",
   "execution_count": 9,
   "id": "f74d80d4",
   "metadata": {
    "scrolled": false
   },
   "outputs": [
    {
     "data": {
      "text/plain": [
       "{'whiskers': [<matplotlib.lines.Line2D at 0x1eb1400aaf0>,\n",
       "  <matplotlib.lines.Line2D at 0x1eb1400ae80>,\n",
       "  <matplotlib.lines.Line2D at 0x1eb14027460>,\n",
       "  <matplotlib.lines.Line2D at 0x1eb140277f0>,\n",
       "  <matplotlib.lines.Line2D at 0x1eb14031d90>,\n",
       "  <matplotlib.lines.Line2D at 0x1eb1403e160>,\n",
       "  <matplotlib.lines.Line2D at 0x1eb1404a700>,\n",
       "  <matplotlib.lines.Line2D at 0x1eb1404aa90>,\n",
       "  <matplotlib.lines.Line2D at 0x1eb14060070>,\n",
       "  <matplotlib.lines.Line2D at 0x1eb14060400>,\n",
       "  <matplotlib.lines.Line2D at 0x1eb1406e9a0>,\n",
       "  <matplotlib.lines.Line2D at 0x1eb1406ed30>,\n",
       "  <matplotlib.lines.Line2D at 0x1eb14085310>,\n",
       "  <matplotlib.lines.Line2D at 0x1eb140856a0>],\n",
       " 'caps': [<matplotlib.lines.Line2D at 0x1eb1401b250>,\n",
       "  <matplotlib.lines.Line2D at 0x1eb1401b5e0>,\n",
       "  <matplotlib.lines.Line2D at 0x1eb14027b80>,\n",
       "  <matplotlib.lines.Line2D at 0x1eb14027f10>,\n",
       "  <matplotlib.lines.Line2D at 0x1eb1403e4f0>,\n",
       "  <matplotlib.lines.Line2D at 0x1eb1403e880>,\n",
       "  <matplotlib.lines.Line2D at 0x1eb1404ae20>,\n",
       "  <matplotlib.lines.Line2D at 0x1eb140561f0>,\n",
       "  <matplotlib.lines.Line2D at 0x1eb14060790>,\n",
       "  <matplotlib.lines.Line2D at 0x1eb14060b20>,\n",
       "  <matplotlib.lines.Line2D at 0x1eb1407a100>,\n",
       "  <matplotlib.lines.Line2D at 0x1eb1407a490>,\n",
       "  <matplotlib.lines.Line2D at 0x1eb14085a30>,\n",
       "  <matplotlib.lines.Line2D at 0x1eb14085dc0>],\n",
       " 'boxes': [<matplotlib.lines.Line2D at 0x1eb1400a760>,\n",
       "  <matplotlib.lines.Line2D at 0x1eb140270d0>,\n",
       "  <matplotlib.lines.Line2D at 0x1eb14031a00>,\n",
       "  <matplotlib.lines.Line2D at 0x1eb1404a370>,\n",
       "  <matplotlib.lines.Line2D at 0x1eb14056ca0>,\n",
       "  <matplotlib.lines.Line2D at 0x1eb1406e610>,\n",
       "  <matplotlib.lines.Line2D at 0x1eb1407af40>],\n",
       " 'medians': [<matplotlib.lines.Line2D at 0x1eb1401b970>,\n",
       "  <matplotlib.lines.Line2D at 0x1eb140312e0>,\n",
       "  <matplotlib.lines.Line2D at 0x1eb1403ec10>,\n",
       "  <matplotlib.lines.Line2D at 0x1eb14056580>,\n",
       "  <matplotlib.lines.Line2D at 0x1eb14060eb0>,\n",
       "  <matplotlib.lines.Line2D at 0x1eb1407a820>,\n",
       "  <matplotlib.lines.Line2D at 0x1eb14091190>],\n",
       " 'fliers': [<matplotlib.lines.Line2D at 0x1eb1401bd00>,\n",
       "  <matplotlib.lines.Line2D at 0x1eb14031670>,\n",
       "  <matplotlib.lines.Line2D at 0x1eb1403efa0>,\n",
       "  <matplotlib.lines.Line2D at 0x1eb14056910>,\n",
       "  <matplotlib.lines.Line2D at 0x1eb1406e280>,\n",
       "  <matplotlib.lines.Line2D at 0x1eb1407abb0>,\n",
       "  <matplotlib.lines.Line2D at 0x1eb14091520>],\n",
       " 'means': []}"
      ]
     },
     "execution_count": 9,
     "metadata": {},
     "output_type": "execute_result"
    },
    {
     "data": {
      "image/png": "[encoded data removed]",
      "text/plain": [
       "<Figure size 1440x720 with 1 Axes>"
      ]
     },
     "metadata": {
      "needs_background": "light"
     },
     "output_type": "display_data"
    }
   ],
   "source": [
    "plt.figure(figsize=(20, 10))\n",
    "plt.boxplot(df[['Normalized_loud', 'Danceability', 'Energy', 'Speechiness', 'Acousticness', 'Liveness', 'Valence']].astype(float))\n",
    "# By plotting the coloumns with values ranging [0, 1] together it makes it easier ti see skews in the data set"
   ]
  },
  {
   "cell_type": "code",
   "execution_count": 10,
   "id": "6e486daa",
   "metadata": {},
   "outputs": [
    {
     "name": "stdout",
     "output_type": "stream",
     "text": [
      "[ 2123734. 22698747.]\n",
      "4883 83337783\n"
     ]
    },
    {
     "data": {
      "image/png": "[encoded data removed]",
      "text/plain": [
       "<Figure size 432x288 with 1 Axes>"
      ]
     },
     "metadata": {
      "needs_background": "light"
     },
     "output_type": "display_data"
    }
   ],
   "source": [
    "plt.boxplot(df['Artist Followers'].astype(int))\n",
    "temp = df['Artist Followers'].astype(int)\n",
    "plt.boxplot(temp)\n",
    "quartiles = percentile(temp, [25, 75])\n",
    "data_min, data_max = temp.min(), temp.max()\n",
    "print(quartiles)\n",
    "print(data_min, data_max)\n",
    "\n",
    "# This is a very good set of data, the outliers would be the really famous artists"
   ]
  },
  {
   "cell_type": "code",
   "execution_count": 11,
   "id": "819e2a30",
   "metadata": {},
   "outputs": [
    {
     "name": "stdout",
     "output_type": "stream",
     "text": [
      "[65. 80.]\n",
      "0 100\n"
     ]
    },
    {
     "data": {
      "image/png": "[encoded data removed]",
      "text/plain": [
       "<Figure size 432x288 with 1 Axes>"
      ]
     },
     "metadata": {
      "needs_background": "light"
     },
     "output_type": "display_data"
    }
   ],
   "source": [
    "plt.boxplot(df['Popularity'].astype(int))\n",
    "temp = df['Popularity'].astype(int)\n",
    "plt.boxplot(temp)\n",
    "quartiles = percentile(temp, [25, 75])\n",
    "data_min, data_max = temp.min(), temp.max()\n",
    "print(quartiles)\n",
    "print(data_min, data_max)\n",
    "\n",
    "# Since most of the values are in the higher numbers we can conclude that most of the songs are very popular\n",
    "# is is more uncommon to find a unpopular song meaning this dataset is on the popular songs"
   ]
  },
  {
   "cell_type": "code",
   "execution_count": 12,
   "id": "ddd967be",
   "metadata": {},
   "outputs": [
    {
     "data": {
      "text/plain": [
       "Text(0, 0.5, 'Song Popularity')"
      ]
     },
     "execution_count": 12,
     "metadata": {},
     "output_type": "execute_result"
    },
    {
     "data": {
      "image/png": "[encoded data removed]",
      "text/plain": [
       "<Figure size 432x288 with 1 Axes>"
      ]
     },
     "metadata": {
      "needs_background": "light"
     },
     "output_type": "display_data"
    }
   ],
   "source": [
    "plt.scatter(df['Artist Followers'].astype(int), df['Popularity'].astype(int))\n",
    "plt.xlabel('Artist Popularity')\n",
    "plt.ylabel('Song Popularity')\n",
    "\n",
    "# There is a slight trend in the relationship between Song popularity and Artist popularity.\n",
    "# If the artist is popular it is more likely their song will be popular"
   ]
  },
  {
   "cell_type": "code",
   "execution_count": 13,
   "id": "2cbdf757",
   "metadata": {},
   "outputs": [],
   "source": [
    "df.to_csv('pop_input.csv')"
   ]
  }
 ],
 "metadata": {
  "kernelspec": {
   "display_name": "Python 3 (ipykernel)",
   "language": "python",
   "name": "python3"
  },
  "language_info": {
   "codemirror_mode": {
    "name": "ipython",
    "version": 3
   },
   "file_extension": ".py",
   "mimetype": "text/x-python",
   "name": "python",
   "nbconvert_exporter": "python",
   "pygments_lexer": "ipython3",
   "version": "3.9.7"
  }
 },
 "nbformat": 4,
 "nbformat_minor": 5
}
